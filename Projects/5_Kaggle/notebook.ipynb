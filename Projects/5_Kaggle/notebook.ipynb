{
  "cells": [
    {
      "metadata": {
        "_cell_guid": "b1076dfc-b9ad-4769-8c92-a6c4dae69d19",
        "_uuid": "8f2839f25d086af736a60e9eeb907d3b93b6e0e5",
        "trusted": false,
        "collapsed": true
      },
      "cell_type": "code",
      "source": "# This Python 3 environment comes with many helpful analytics libraries installed\n# It is defined by the kaggle/python docker image: https://github.com/kaggle/docker-python\n# For example, here's several helpful packages to load in \n\nimport numpy as np # linear algebra\nimport pandas as pd # data processing, CSV file I/O (e.g. pd.read_csv)\n\n# Input data files are available in the \"../input/\" directory.\n# For example, running this (by clicking run or pressing Shift+Enter) will list the files in the input directory\n\nimport os\nprint(os.listdir(\"../input\"))\n\n# Any results you write to the current directory are saved as output.",
      "execution_count": null,
      "outputs": []
    },
    {
      "metadata": {
        "_cell_guid": "79c7e3d0-c299-4dcb-8224-4455121ee9b0",
        "_uuid": "d629ff2d2480ee46fbb7e2d37f6b5fab8052498a",
        "trusted": true
      },
      "cell_type": "code",
      "source": "import pandas as pd\nimport numpy as np\nimport os\nimport re\nimport random\nimport datetime\nfrom sklearn.ensemble import RandomForestRegressor\nfrom sklearn.model_selection import GridSearchCV\nfrom sklearn import datasets, linear_model, ensemble\nfrom sklearn.metrics import mean_squared_error, r2_score\nfrom sklearn.model_selection import train_test_split\nfrom sklearn.metrics import accuracy_score\nimport gc\nfrom sklearn import preprocessing\nfrom sklearn.linear_model import LinearRegression\nfrom sklearn.tree import DecisionTreeClassifier\nfrom sklearn.tree import DecisionTreeRegressor\n\n#Reading data from files\ntrain_data= pd.read_csv(r\"../input/train_2016_v2.csv\")\nproperties_data = pd.read_csv(r\"../input/properties_2016.csv\")\n#train_data_2017= pd.read_csv(r\"../input/train_2017.csv\")\n#properties_data_2017 = pd.read_csv(r\"../input/properties_2017.csv\")\n\n#Merging both properties and training data file of 2016 and 2017\n#final_train = train_data.append(train_data_2016)\n#final_properties = properties_data.append(properties_data_2016)\n\n#Merged Properties and training data file of 2016\nfinal_data = pd.merge(train_data, properties_data, on =\"parcelid\")\n\n#Preprocessing the final data file\nfinal_data = final_data.fillna(-9999)\nfinal_data = final_data.select_dtypes(exclude=[object])\n\n#Dropped few columns and separated out x_train and y_train datasets\nx_train = final_data.drop(['regionidzip', 'assessmentyear', 'parcelid', 'logerror'], axis=1) \ny_train = final_data['logerror']\n\n\n# Fit regression model\ndecregr = DecisionTreeRegressor(max_depth=2)\ndecregr.fit(x_train, y_train)\n\nsample_data = pd.read_csv(r\"../input/sample_submission.csv\")  \ntest_data = sample_data.loc[:,['ParcelId']].merge(properties_data,how='left',left_on='ParcelId',right_on='parcelid')\n",
      "execution_count": 1,
      "outputs": [
        {
          "output_type": "stream",
          "text": "/opt/conda/lib/python3.6/site-packages/IPython/core/interactiveshell.py:2698: DtypeWarning: Columns (22,32,34,49,55) have mixed types. Specify dtype option on import or set low_memory=False.\n  interactivity=interactivity, compiler=compiler, result=result)\n",
          "name": "stderr"
        }
      ]
    },
    {
      "metadata": {
        "trusted": true,
        "_uuid": "3677d49651551ee5fe49e4f0ba118794cc032b73"
      },
      "cell_type": "code",
      "source": "    \nx_test = test_data.drop(['ParcelId','parcelid','regionidzip', 'assessmentyear'],axis=1,inplace=False)\nx_test = x_test.select_dtypes(exclude=[object])\nx_test = x_test.fillna(-9999)\n\ny_pred = decregr.predict(x_test)\npredictions = [round(value) for value in y_pred]\ntest_y = pd.DataFrame(y_pred)\ninitial_submission = test_y.copy()\nsample_data = pd.read_csv(r'../input/sample_submission.csv')\nnext_submission = sample_data.copy()\n    for col in next_submission.columns[next_submission.columns != 'ParcelId']:\n        next_submission[col] = initial_submission\n\n# new_cols = ['201610','201611','201612','201710','201711','201712']\n# submission = submission.reindex(columns=submission.columns.tolist() + new_cols) \nprint(next_submission)\nnext_submission.to_csv('output_lincy.csv',index=False)\n",
      "execution_count": 5,
      "outputs": [
        {
          "output_type": "stream",
          "text": "          ParcelId    201610    201611    201612    201710    201711    201712\n0         10754147  0.028301  0.028301  0.028301  0.028301  0.028301  0.028301\n1         10759547  0.028301  0.028301  0.028301  0.028301  0.028301  0.028301\n2         10843547  0.010005  0.010005  0.010005  0.010005  0.010005  0.010005\n3         10859147  0.010005  0.010005  0.010005  0.010005  0.010005  0.010005\n4         10879947  0.010005  0.010005  0.010005  0.010005  0.010005  0.010005\n5         10898347  0.010005  0.010005  0.010005  0.010005  0.010005  0.010005\n6         10933547  0.010005  0.010005  0.010005  0.010005  0.010005  0.010005\n7         10940747  0.010005  0.010005  0.010005  0.010005  0.010005  0.010005\n8         10954547  0.028301  0.028301  0.028301  0.028301  0.028301  0.028301\n9         10976347  0.010005  0.010005  0.010005  0.010005  0.010005  0.010005\n10        11073947  0.010005  0.010005  0.010005  0.010005  0.010005  0.010005\n11        11114347  0.028301  0.028301  0.028301  0.028301  0.028301  0.028301\n12        11116947  0.010005  0.010005  0.010005  0.010005  0.010005  0.010005\n13        11142747  0.028301  0.028301  0.028301  0.028301  0.028301  0.028301\n14        11193347  0.028301  0.028301  0.028301  0.028301  0.028301  0.028301\n15        11215747  0.028301  0.028301  0.028301  0.028301  0.028301  0.028301\n16        11229347  0.028301  0.028301  0.028301  0.028301  0.028301  0.028301\n17        11287347 -0.048160 -0.048160 -0.048160 -0.048160 -0.048160 -0.048160\n18        11288547  0.010005  0.010005  0.010005  0.010005  0.010005  0.010005\n19        11324547  0.010005  0.010005  0.010005  0.010005  0.010005  0.010005\n20        11391347  0.010005  0.010005  0.010005  0.010005  0.010005  0.010005\n21        11395747  0.028301  0.028301  0.028301  0.028301  0.028301  0.028301\n22        11404347  0.010005  0.010005  0.010005  0.010005  0.010005  0.010005\n23        11405747  0.010005  0.010005  0.010005  0.010005  0.010005  0.010005\n24        11417147  0.010005  0.010005  0.010005  0.010005  0.010005  0.010005\n25        11457547  0.028301  0.028301  0.028301  0.028301  0.028301  0.028301\n26        11488147  0.010005  0.010005  0.010005  0.010005  0.010005  0.010005\n27        11520747  0.010005  0.010005  0.010005  0.010005  0.010005  0.010005\n28        11524947  0.010005  0.010005  0.010005  0.010005  0.010005  0.010005\n29        11544747  0.010005  0.010005  0.010005  0.010005  0.010005  0.010005\n...            ...       ...       ...       ...       ...       ...       ...\n2985187  167636430  0.028301  0.028301  0.028301  0.028301  0.028301  0.028301\n2985188  167690630  0.028301  0.028301  0.028301  0.028301  0.028301  0.028301\n2985189  167636630  0.028301  0.028301  0.028301  0.028301  0.028301  0.028301\n2985190   10834030  0.028301  0.028301  0.028301  0.028301  0.028301  0.028301\n2985191  167637430  0.028301  0.028301  0.028301  0.028301  0.028301  0.028301\n2985192  167637630  0.028301  0.028301  0.028301  0.028301  0.028301  0.028301\n2985193  167637230  0.028301  0.028301  0.028301  0.028301  0.028301  0.028301\n2985194   11645030  0.028301  0.028301  0.028301  0.028301  0.028301  0.028301\n2985195  167689030  0.028301  0.028301  0.028301  0.028301  0.028301  0.028301\n2985196  167638630  0.028301  0.028301  0.028301  0.028301  0.028301  0.028301\n2985197  167638430  0.028301  0.028301  0.028301  0.028301  0.028301  0.028301\n2985198   14342030  0.028301  0.028301  0.028301  0.028301  0.028301  0.028301\n2985199  167638230  0.028301  0.028301  0.028301  0.028301  0.028301  0.028301\n2985200  167637830  0.028301  0.028301  0.028301  0.028301  0.028301  0.028301\n2985201  167639230  0.028301  0.028301  0.028301  0.028301  0.028301  0.028301\n2985202   14341030  0.028301  0.028301  0.028301  0.028301  0.028301  0.028301\n2985203   14341630  0.028301  0.028301  0.028301  0.028301  0.028301  0.028301\n2985204   14367630  0.028301  0.028301  0.028301  0.028301  0.028301  0.028301\n2985205  167638830  0.028301  0.028301  0.028301  0.028301  0.028301  0.028301\n2985206   12572230  0.028301  0.028301  0.028301  0.028301  0.028301  0.028301\n2985207   14460030  0.028301  0.028301  0.028301  0.028301  0.028301  0.028301\n2985208   14284830  0.028301  0.028301  0.028301  0.028301  0.028301  0.028301\n2985209   14285230  0.028301  0.028301  0.028301  0.028301  0.028301  0.028301\n2985210   14455630  0.028301  0.028301  0.028301  0.028301  0.028301  0.028301\n2985211   11117630  0.028301  0.028301  0.028301  0.028301  0.028301  0.028301\n2985212  168176230  0.028301  0.028301  0.028301  0.028301  0.028301  0.028301\n2985213   14273630  0.028301  0.028301  0.028301  0.028301  0.028301  0.028301\n2985214  168040630  0.028301  0.028301  0.028301  0.028301  0.028301  0.028301\n2985215  168040830  0.028301  0.028301  0.028301  0.028301  0.028301  0.028301\n2985216  168040430  0.028301  0.028301  0.028301  0.028301  0.028301  0.028301\n\n[2985217 rows x 7 columns]\n",
          "name": "stdout"
        }
      ]
    },
    {
      "metadata": {
        "trusted": true,
        "collapsed": true,
        "_uuid": "0b5a4e0517b0c2e2a5e50720ea6b5b7cbe69f09d"
      },
      "cell_type": "code",
      "source": "",
      "execution_count": null,
      "outputs": []
    }
  ],
  "metadata": {
    "kernelspec": {
      "display_name": "Python 3",
      "language": "python",
      "name": "python3"
    },
    "language_info": {
      "name": "python",
      "version": "3.6.5",
      "mimetype": "text/x-python",
      "codemirror_mode": {
        "name": "ipython",
        "version": 3
      },
      "pygments_lexer": "ipython3",
      "nbconvert_exporter": "python",
      "file_extension": ".py"
    }
  },
  "nbformat": 4,
  "nbformat_minor": 1
}